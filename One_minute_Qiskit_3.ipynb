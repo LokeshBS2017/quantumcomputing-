{
 "cells": [
  {
   "cell_type": "code",
   "execution_count": 2,
   "metadata": {},
   "outputs": [],
   "source": [
    "from qiskit import QuantumCircuit\n",
    "from qiskit.quantum_info import Statevector\n",
    "from qiskit.visualization import plot_histogram, plot_bloch_multivector\n",
    "from numpy import pi"
   ]
  },
  {
   "cell_type": "code",
   "execution_count": 13,
   "metadata": {},
   "outputs": [
    {
     "data": {
      "text/html": [
       "<pre style=\"word-wrap: normal;white-space: pre;background: #fff0;line-height: 1.1;font-family: &quot;Courier New&quot;,Courier,monospace\">     ┌───┐  ┌───────┐  \n",
       "q_0: ┤ H ├──┤ U1(0) ├──\n",
       "     ├───┤ ┌┴───────┴─┐\n",
       "q_1: ┤ H ├─┤ U1(pi/3) ├\n",
       "     ├───┤┌┴──────────┤\n",
       "q_2: ┤ H ├┤ U1(2pi/3) ├\n",
       "     └───┘└───────────┘</pre>"
      ],
      "text/plain": [
       "     ┌───┐  ┌───────┐  \n",
       "q_0: ┤ H ├──┤ U1(0) ├──\n",
       "     ├───┤ ┌┴───────┴─┐\n",
       "q_1: ┤ H ├─┤ U1(pi/3) ├\n",
       "     ├───┤┌┴──────────┤\n",
       "q_2: ┤ H ├┤ U1(2pi/3) ├\n",
       "     └───┘└───────────┘"
      ]
     },
     "execution_count": 13,
     "metadata": {},
     "output_type": "execute_result"
    }
   ],
   "source": [
    "my_circuit =QuantumCircuit(3)\n",
    "for q in range(3):\n",
    "    my_circuit.h(q)\n",
    "    my_circuit.u1(pi*(q/3),q)\n",
    "my_circuit.draw()\n",
    "    "
   ]
  },
  {
   "cell_type": "code",
   "execution_count": 6,
   "metadata": {},
   "outputs": [],
   "source": [
    "sv = Statevector.from_label('000')"
   ]
  },
  {
   "cell_type": "code",
   "execution_count": 7,
   "metadata": {},
   "outputs": [
    {
     "data": {
      "text/plain": [
       "Statevector([1.+0.j, 0.+0.j, 0.+0.j, 0.+0.j, 0.+0.j, 0.+0.j, 0.+0.j,\n",
       "             0.+0.j],\n",
       "            dims=(2, 2, 2))"
      ]
     },
     "execution_count": 7,
     "metadata": {},
     "output_type": "execute_result"
    }
   ],
   "source": [
    "sv"
   ]
  },
  {
   "cell_type": "code",
   "execution_count": 9,
   "metadata": {},
   "outputs": [],
   "source": [
    "sv = sv.evolve(my_circuit)"
   ]
  },
  {
   "cell_type": "code",
   "execution_count": 10,
   "metadata": {},
   "outputs": [
    {
     "data": {
      "text/plain": [
       "Statevector([ 0.35355339+0.00000000e+00j,  0.35355339+0.00000000e+00j,\n",
       "              0.1767767 +3.06186218e-01j,  0.1767767 +3.06186218e-01j,\n",
       "             -0.1767767 +3.06186218e-01j, -0.1767767 +3.06186218e-01j,\n",
       "             -0.35355339+1.11022302e-16j, -0.35355339+1.11022302e-16j],\n",
       "            dims=(2, 2, 2))"
      ]
     },
     "execution_count": 10,
     "metadata": {},
     "output_type": "execute_result"
    }
   ],
   "source": [
    "sv"
   ]
  },
  {
   "cell_type": "code",
   "execution_count": null,
   "metadata": {},
   "outputs": [],
   "source": []
  }
 ],
 "metadata": {
  "kernelspec": {
   "display_name": "Python 3",
   "language": "python",
   "name": "python3"
  },
  "language_info": {
   "codemirror_mode": {
    "name": "ipython",
    "version": 3
   },
   "file_extension": ".py",
   "mimetype": "text/x-python",
   "name": "python",
   "nbconvert_exporter": "python",
   "pygments_lexer": "ipython3",
   "version": "3.8.2"
  }
 },
 "nbformat": 4,
 "nbformat_minor": 4
}

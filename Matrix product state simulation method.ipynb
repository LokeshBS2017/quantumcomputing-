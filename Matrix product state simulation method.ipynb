{
 "cells": [
  {
   "cell_type": "code",
   "execution_count": 1,
   "metadata": {},
   "outputs": [
    {
     "data": {
      "text/plain": [
       "{'11': 530, '00': 494}"
      ]
     },
     "execution_count": 1,
     "metadata": {},
     "output_type": "execute_result"
    }
   ],
   "source": [
    "import numpy as np\n",
    "\n",
    "# Import Qiskit\n",
    "from qiskit import QuantumCircuit, QuantumRegister, ClassicalRegister\n",
    "from qiskit import Aer, execute\n",
    "from qiskit.providers.aer import QasmSimulator\n",
    "# Construct quantum circuit\n",
    "circ = QuantumCircuit(2, 2)\n",
    "circ.h(0)\n",
    "circ.cx(0, 1)\n",
    "circ.measure([0,1], [0,1])\n",
    "\n",
    "# Select the QasmSimulator from the Aer provider\n",
    "simulator = Aer.get_backend('qasm_simulator')\n",
    "\n",
    "# Define the simulation method\n",
    "backend_opts_mps = {\"method\":\"matrix_product_state\"}\n",
    "\n",
    "# Execute and get counts, using the matrix_product_state method\n",
    "result = execute(circ, simulator, backend_options=backend_opts_mps).result()\n",
    "counts = result.get_counts(circ)\n",
    "counts"
   ]
  },
  {
   "cell_type": "code",
   "execution_count": 2,
   "metadata": {},
   "outputs": [],
   "source": [
    "from qiskit.extensions.simulator import Snapshot\n",
    "from qiskit.extensions.simulator.snapshot import snapshot"
   ]
  },
  {
   "cell_type": "code",
   "execution_count": 3,
   "metadata": {},
   "outputs": [
    {
     "data": {
      "text/plain": [
       "[[(0.7071067811865475+0j), 0j, 0j, (0.7071067811865475+0j)]]"
      ]
     },
     "execution_count": 3,
     "metadata": {},
     "output_type": "execute_result"
    }
   ],
   "source": [
    "circ = QuantumCircuit(2, 2)\n",
    "circ.h(0)\n",
    "circ.cx(0, 1)\n",
    "\n",
    "# Define a snapshot that shows the current state vector\n",
    "circ.snapshot('my_sv', snapshot_type='statevector')\n",
    "circ.measure([0,1], [0,1])\n",
    "\n",
    "# Execute\n",
    "job_sim = execute([circ], QasmSimulator(), backend_options=backend_opts_mps)\n",
    "result = job_sim.result()\n",
    "res = result.results\n",
    "\n",
    "#print the state vector\n",
    "statevector = res[0].data.snapshots.statevector\n",
    "statevector['my_sv']"
   ]
  },
  {
   "cell_type": "code",
   "execution_count": 4,
   "metadata": {},
   "outputs": [
    {
     "data": {
      "text/plain": [
       "{'11': 518, '00': 506}"
      ]
     },
     "execution_count": 4,
     "metadata": {},
     "output_type": "execute_result"
    }
   ],
   "source": [
    "result.get_counts()"
   ]
  },
  {
   "cell_type": "code",
   "execution_count": 5,
   "metadata": {},
   "outputs": [
    {
     "name": "stdout",
     "output_type": "stream",
     "text": [
      "Time taken: 4.115946054458618 sec\n"
     ]
    },
    {
     "data": {
      "text/plain": [
       "{'11111111111111111111111111111111111111111111111111': 536,\n",
       " '00000000000000000000000000000000000000000000000000': 488}"
      ]
     },
     "execution_count": 5,
     "metadata": {},
     "output_type": "execute_result"
    }
   ],
   "source": [
    "num_qubits = 50\n",
    "qr = QuantumRegister(num_qubits)\n",
    "cr = ClassicalRegister(num_qubits)\n",
    "circ = QuantumCircuit(qr, cr)\n",
    "\n",
    "# Create EPR state\n",
    "circ.h(qr[0])\n",
    "for i in range (0,num_qubits-1):\n",
    "    circ.cx(qr[i], qr[i+1])\n",
    "\n",
    "# Measure\n",
    "circ.measure(qr, cr)\n",
    "\n",
    "job_sim = execute([circ], QasmSimulator(), backend_options=backend_opts_mps)\n",
    "result = job_sim.result()\n",
    "print(\"Time taken: {} sec\".format(result.time_taken))\n",
    "result.get_counts()"
   ]
  },
  {
   "cell_type": "code",
   "execution_count": 7,
   "metadata": {},
   "outputs": [
    {
     "data": {
      "text/html": [
       "<h3>Version Information</h3><table><tr><th>Qiskit Software</th><th>Version</th></tr><tr><td>Qiskit</td><td>0.19.1</td></tr><tr><td>Terra</td><td>0.14.1</td></tr><tr><td>Aer</td><td>0.5.1</td></tr><tr><td>Ignis</td><td>0.3.0</td></tr><tr><td>Aqua</td><td>0.7.0</td></tr><tr><td>IBM Q Provider</td><td>0.7.0</td></tr><tr><th>System information</th></tr><tr><td>Python</td><td>3.8.2 (default, May  6 2020, 09:02:42) [MSC v.1916 64 bit (AMD64)]</td></tr><tr><td>OS</td><td>Windows</td></tr><tr><td>CPUs</td><td>2</td></tr><tr><td>Memory (Gb)</td><td>3.922527313232422</td></tr><tr><td colspan='2'>Mon Jun 29 09:32:46 2020 India Standard Time</td></tr></table>"
      ],
      "text/plain": [
       "<IPython.core.display.HTML object>"
      ]
     },
     "metadata": {},
     "output_type": "display_data"
    }
   ],
   "source": [
    "import qiskit.tools.jupyter\n",
    "%qiskit_version_table\n"
   ]
  },
  {
   "cell_type": "code",
   "execution_count": null,
   "metadata": {},
   "outputs": [],
   "source": []
  }
 ],
 "metadata": {
  "kernelspec": {
   "display_name": "Python 3",
   "language": "python",
   "name": "python3"
  },
  "language_info": {
   "codemirror_mode": {
    "name": "ipython",
    "version": 3
   },
   "file_extension": ".py",
   "mimetype": "text/x-python",
   "name": "python",
   "nbconvert_exporter": "python",
   "pygments_lexer": "ipython3",
   "version": "3.8.2"
  }
 },
 "nbformat": 4,
 "nbformat_minor": 4
}

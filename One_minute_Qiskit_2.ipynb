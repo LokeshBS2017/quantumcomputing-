{
 "cells": [
  {
   "cell_type": "code",
   "execution_count": null,
   "metadata": {},
   "outputs": [],
   "source": [
    "from qiskit import QuantumCircuit, transpile, Aer"
   ]
  },
  {
   "cell_type": "code",
   "execution_count": 3,
   "metadata": {},
   "outputs": [
    {
     "data": {
      "text/html": [
       "<pre style=\"word-wrap: normal;white-space: pre;background: #fff0;line-height: 1.1;font-family: &quot;Courier New&quot;,Courier,monospace\">     ┌───┐┌───┐┌───┐\n",
       "q_0: ┤ H ├┤ X ├┤ T ├\n",
       "     ├───┤└─┬─┘└───┘\n",
       "q_1: ┤ T ├──■───────\n",
       "     └───┘  │  ┌───┐\n",
       "q_2: ───────■──┤ S ├\n",
       "               └───┘</pre>"
      ],
      "text/plain": [
       "     ┌───┐┌───┐┌───┐\n",
       "q_0: ┤ H ├┤ X ├┤ T ├\n",
       "     ├───┤└─┬─┘└───┘\n",
       "q_1: ┤ T ├──■───────\n",
       "     └───┘  │  ┌───┐\n",
       "q_2: ───────■──┤ S ├\n",
       "               └───┘"
      ]
     },
     "execution_count": 3,
     "metadata": {},
     "output_type": "execute_result"
    }
   ],
   "source": [
    "my_circuit = QuantumCircuit(3)\n",
    "my_circuit.t(1)\n",
    "my_circuit.h(0)\n",
    "my_circuit.ccx(2,1,0)\n",
    "my_circuit.s(2)\n",
    "my_circuit.t(0)\n",
    "my_circuit.draw()"
   ]
  },
  {
   "cell_type": "code",
   "execution_count": 4,
   "metadata": {},
   "outputs": [],
   "source": [
    "my_gate = my_circuit.to_gate()"
   ]
  },
  {
   "cell_type": "code",
   "execution_count": 5,
   "metadata": {},
   "outputs": [],
   "source": [
    "my_inverse_gate = my_gate.inverse()"
   ]
  },
  {
   "cell_type": "code",
   "execution_count": 6,
   "metadata": {},
   "outputs": [],
   "source": [
    "my_inverse_gate.name = \"My inverse Gate \""
   ]
  },
  {
   "cell_type": "code",
   "execution_count": 8,
   "metadata": {},
   "outputs": [
    {
     "data": {
      "text/html": [
       "<pre style=\"word-wrap: normal;white-space: pre;background: #fff0;line-height: 1.1;font-family: &quot;Courier New&quot;,Courier,monospace\">     ┌───────────────────┐\n",
       "q_0: ┤0                  ├\n",
       "     │                   │\n",
       "q_1: ┤1 My inverse Gate  ├\n",
       "     │                   │\n",
       "q_2: ┤2                  ├\n",
       "     └───────────────────┘</pre>"
      ],
      "text/plain": [
       "     ┌───────────────────┐\n",
       "q_0: ┤0                  ├\n",
       "     │                   │\n",
       "q_1: ┤1 My inverse Gate  ├\n",
       "     │                   │\n",
       "q_2: ┤2                  ├\n",
       "     └───────────────────┘"
      ]
     },
     "execution_count": 8,
     "metadata": {},
     "output_type": "execute_result"
    }
   ],
   "source": [
    "new_circuit = QuantumCircuit(3)\n",
    "new_circuit.append(my_inverse_gate, [0,1,2])\n",
    "new_circuit.draw()"
   ]
  },
  {
   "cell_type": "code",
   "execution_count": 9,
   "metadata": {},
   "outputs": [
    {
     "data": {
      "text/html": [
       "<pre style=\"word-wrap: normal;white-space: pre;background: #fff0;line-height: 1.1;font-family: &quot;Courier New&quot;,Courier,monospace\">     ┌─────┐┌───┐ ┌───┐ \n",
       "q_0: ┤ TDG ├┤ X ├─┤ H ├─\n",
       "     └─────┘└─┬─┘┌┴───┴┐\n",
       "q_1: ─────────■──┤ TDG ├\n",
       "     ┌─────┐  │  └─────┘\n",
       "q_2: ┤ SDG ├──■─────────\n",
       "     └─────┘            </pre>"
      ],
      "text/plain": [
       "     ┌─────┐┌───┐ ┌───┐ \n",
       "q_0: ┤ TDG ├┤ X ├─┤ H ├─\n",
       "     └─────┘└─┬─┘┌┴───┴┐\n",
       "q_1: ─────────■──┤ TDG ├\n",
       "     ┌─────┐  │  └─────┘\n",
       "q_2: ┤ SDG ├──■─────────\n",
       "     └─────┘            "
      ]
     },
     "execution_count": 9,
     "metadata": {},
     "output_type": "execute_result"
    }
   ],
   "source": [
    "new_circuit.decompose().draw()"
   ]
  },
  {
   "cell_type": "code",
   "execution_count": null,
   "metadata": {},
   "outputs": [],
   "source": []
  }
 ],
 "metadata": {
  "kernelspec": {
   "display_name": "Python 3",
   "language": "python",
   "name": "python3"
  },
  "language_info": {
   "codemirror_mode": {
    "name": "ipython",
    "version": 3
   },
   "file_extension": ".py",
   "mimetype": "text/x-python",
   "name": "python",
   "nbconvert_exporter": "python",
   "pygments_lexer": "ipython3",
   "version": "3.8.2"
  }
 },
 "nbformat": 4,
 "nbformat_minor": 4
}
